{
  "nbformat": 4,
  "nbformat_minor": 0,
  "metadata": {
    "colab": {
      "name": "UdoI_Lab8.ipynb",
      "provenance": [],
      "mount_file_id": "1MRWJRbEUHEG1RN4Yc-iZLhdUy7Bk6Qhv",
      "authorship_tag": "ABX9TyOzROIkmZhOHahwYwth/Rcz",
      "include_colab_link": true
    },
    "kernelspec": {
      "name": "python3",
      "display_name": "Python 3"
    },
    "language_info": {
      "name": "python"
    }
  },
  "cells": [
    {
      "cell_type": "markdown",
      "metadata": {
        "id": "view-in-github",
        "colab_type": "text"
      },
      "source": [
        "<a href=\"https://colab.research.google.com/github/UdoIhekwaba/UdoI_IT262_Labs/blob/main/UdoI_Lab8.ipynb\" target=\"_parent\"><img src=\"https://colab.research.google.com/assets/colab-badge.svg\" alt=\"Open In Colab\"/></a>"
      ]
    },
    {
      "cell_type": "code",
      "source": [
        "import pandas as pd\n",
        "import numpy as np\n",
        "import matplotlib.pyplot as plt"
      ],
      "metadata": {
        "id": "sIhC4Lg75tY4"
      },
      "execution_count": 6,
      "outputs": []
    },
    {
      "cell_type": "code",
      "execution_count": 7,
      "metadata": {
        "colab": {
          "base_uri": "https://localhost:8080/"
        },
        "id": "QY5lrqoQ5Jb7",
        "outputId": "6159d257-fb75-46b6-96d2-ace51a068362"
      },
      "outputs": [
        {
          "output_type": "stream",
          "name": "stdout",
          "text": [
            "Drive already mounted at /content/drive/; to attempt to forcibly remount, call drive.mount(\"/content/drive/\", force_remount=True).\n",
            "/content/drive/My Drive\n"
          ]
        }
      ],
      "source": [
        "from google.colab import drive\n",
        "drive.mount('/content/drive/')\n",
        "\n",
        "%cd /content/drive/My Drive/\n"
      ]
    },
    {
      "cell_type": "code",
      "source": [
        "myData = pd.read_csv(\"/content/drive/MyDrive/Copy of BDU.csv\")"
      ],
      "metadata": {
        "id": "2ya7OSJY6LJJ"
      },
      "execution_count": 8,
      "outputs": []
    },
    {
      "cell_type": "code",
      "source": [
        "myData.shape\n",
        "myData.head(2)"
      ],
      "metadata": {
        "id": "-ncSgLuA6a-y"
      },
      "execution_count": null,
      "outputs": []
    },
    {
      "cell_type": "code",
      "source": [
        "fig,  (ax1, ax2) = plt.subplots(1,2, figsize =(10,2))\n",
        "\n",
        "ax1.set_xlabel('days')\n",
        "ax2.set_xlabel('days')\n",
        "ax1.plot(myData.Cideal, color = 'pink', label = 'work completed - ideal')\n",
        "ax3=ax1.twinx()\n",
        "ax3.plot(myData.Cactual, color = 'green', label = 'work completed - actual')\n",
        "ax2.plot(myData.Lideal, color = 'pink', label = 'work to be done - ideal')\n",
        "ax4=ax2.twinx()\n",
        "ax4.plot(myData.Lactual, color = 'pink', label = 'work to be done - actual')\n",
        "\n",
        "ax1.set_title('burn up')\n",
        "ax2.set_title('burn down')\n",
        "\n",
        "h1, l1 = ax1.get_legend_handles_labels()\n",
        "h3, l3 = ax3.get_legend_handles_labels()\n",
        "ax3.legend(h1+h3,l1+l3,loc=2)\n",
        "h2, l2 = ax2.get_legend_handles_labels()\n",
        "h4, l4 = ax4.get_legend_handles_labels()\n",
        "ax4.legend(h1+h3, l1+l3,loc=2)\n",
        "\n",
        "plt.show()"
      ],
      "metadata": {
        "colab": {
          "base_uri": "https://localhost:8080/",
          "height": 187
        },
        "id": "t4el_CMz6jLi",
        "outputId": "5b5a2d4e-b07d-4d09-fdb3-892093003db4"
      },
      "execution_count": 21,
      "outputs": [
        {
          "output_type": "display_data",
          "data": {
            "text/plain": [
              "<Figure size 720x144 with 4 Axes>"
            ],
            "image/png": "[encoded data removed]"
          },
          "metadata": {
            "needs_background": "light"
          }
        }
      ]
    }
  ]
}