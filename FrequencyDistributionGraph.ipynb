{
  "nbformat": 4,
  "nbformat_minor": 0,
  "metadata": {
    "colab": {
      "name": "FrequencyDistributionGraph.ipynb",
      "provenance": [],
      "authorship_tag": "ABX9TyOv8qTHKKimBoB8qLQEnodO",
      "include_colab_link": true
    },
    "kernelspec": {
      "name": "python3",
      "display_name": "Python 3"
    },
    "language_info": {
      "name": "python"
    }
  },
  "cells": [
    {
      "cell_type": "markdown",
      "metadata": {
        "id": "view-in-github",
        "colab_type": "text"
      },
      "source": [
        "<a href=\"https://colab.research.google.com/github/UdoIhekwaba/UdoI_IT262_Labs/blob/main/FrequencyDistributionGraph.ipynb\" target=\"_parent\"><img src=\"https://colab.research.google.com/assets/colab-badge.svg\" alt=\"Open In Colab\"/></a>"
      ]
    },
    {
      "cell_type": "code",
      "execution_count": 98,
      "metadata": {
        "colab": {
          "base_uri": "https://localhost:8080/"
        },
        "id": "a6SAH6d2s8Q3",
        "outputId": "541fbe7b-a765-41e8-d30e-50fed2d57580"
      },
      "outputs": [
        {
          "output_type": "stream",
          "name": "stdout",
          "text": [
            "[5, 27, 6, 11, 6, 0, 30, 22, 25, 8, 24, 18, 13, 29, 20, 28, 15, 0, 20, 30, 30, 27, 14, 19, 8, 5, 24, 19, 5, 19, 30, 16, 8, 9, 27, 2, 19, 12, 2, 5, 14, 21, 11, 1, 19, 6, 27, 27, 10, 17, 28, 16, 14, 21, 30, 24, 2, 30, 21, 17, 28, 14, 7, 4, 6, 14, 16, 24, 25, 3, 4, 6, 26, 26, 11, 26, 20, 20, 8, 10, 0, 30, 3, 25, 9, 28, 5, 30, 13, 27, 19, 12, 1, 2, 23, 1, 30, 2, 18, 12, 27, 1, 15, 29, 3, 16, 13, 19, 2, 18, 5, 7, 2, 14, 25, 26, 22, 9, 10, 2, 11, 27, 24, 12, 0, 0, 13, 23, 1, 29, 11, 13, 30, 29, 16, 25, 25, 26, 27, 15, 7, 4, 15, 23, 0, 14, 24, 6, 11, 29, 8, 21, 8, 26, 30, 13, 3, 5, 30, 23, 8, 26, 4, 6, 10, 4, 25, 22, 23, 10, 25, 30, 25, 24, 8, 24, 9, 30, 11, 12, 13, 16, 25, 0, 18, 9, 26, 28, 8, 5, 18, 14, 28, 14, 15, 18, 21, 10, 30, 13, 2, 4, 23, 22, 7, 10, 11, 23, 29, 3, 0, 19, 15, 28, 8, 0, 17, 3, 8, 0, 21, 30, 1, 13, 19, 26, 9, 1, 3, 8, 28, 4, 5, 4, 5, 17, 0, 24, 9, 19, 0, 28, 17, 11, 0, 0, 0, 24, 2, 1, 23, 2, 27, 1, 2, 15, 17, 3, 4, 30, 22, 26, 25, 11, 1, 3, 2, 27, 23, 27, 22, 26, 25, 7, 26, 25, 25, 30, 28, 0, 20, 14, 29, 9, 23, 24, 23, 7, 16, 15, 20, 2, 6, 21, 3, 12, 23, 25, 10, 25, 12, 21, 10, 3, 13, 4, 16, 25, 23, 24, 22, 18, 0, 2, 2, 15, 20, 27, 16, 3, 7, 10, 1, 27, 8, 24, 22, 20, 7, 16, 0, 17, 22, 20, 3, 2, 1, 22, 24, 22, 12, 2, 27, 7, 19, 5, 13, 0, 22, 16, 16, 9, 15, 25, 8, 19, 3, 16, 14, 4, 9, 28, 15, 0, 2, 24, 28, 6, 3, 21, 27, 17, 8, 20, 23, 4, 20, 19, 11, 7, 8, 21, 9, 16, 17, 0, 25, 22, 13, 0, 13, 19, 0, 12, 8, 9, 13, 13, 20, 28, 22, 30, 21, 11, 18, 13, 17, 7, 6, 2, 10, 4, 20, 18, 23, 8, 4, 25, 9, 0, 15, 9, 22, 29, 19, 17, 19, 21, 13, 0, 20, 16, 20, 23, 18, 8, 22, 11, 25, 7, 16, 20, 24, 11, 12, 30, 24, 28, 15, 6, 20, 8, 13, 8, 30, 26, 16, 0, 23, 27, 11, 5, 6, 28, 1, 0, 25, 18, 11, 5, 14, 24, 10, 2, 16, 8, 3, 28, 19, 15, 1, 11, 29, 30, 10, 15, 4, 19, 13, 6, 17, 15, 17, 9, 21, 27, 13, 24, 24, 0, 26, 14, 27, 10, 2, 7, 10, 13, 3, 23, 26, 30, 2, 15, 7, 1, 28, 2, 29, 30, 30, 8, 2, 16, 16, 28, 17, 8, 30, 8, 21, 1, 30, 24, 13, 6, 15, 10, 23, 7, 28, 11, 0, 29, 10, 6, 13, 26, 3, 22, 7, 19, 12, 13, 26, 2, 29, 17, 23, 25, 10, 16, 8, 1, 12, 0, 19, 17, 11, 10, 15, 12, 17, 25, 25, 10, 6, 26, 15, 8, 13, 5, 16, 26, 11, 5, 6, 20, 4, 27, 4, 13, 19, 19, 4, 29, 11, 30, 8, 4, 3, 8, 5, 10, 0, 10, 14, 27, 3, 26, 28, 16, 20, 23, 10, 1, 23, 2, 21, 26, 1, 19, 27, 21, 1, 14, 9, 10, 3, 1, 24, 13, 1, 10, 28, 20, 7, 0, 11, 2, 13, 25, 21, 9, 30, 24, 12, 11, 25, 19, 10, 14, 2, 5, 18, 15, 16, 0, 23, 4, 9, 8, 30, 24, 5, 30, 9, 28, 27, 4, 8, 25, 6, 21, 29, 5, 20, 3, 10, 28, 17, 4, 0, 8, 25, 11, 7, 10, 8, 12, 14, 1, 0, 28, 7, 2, 8, 19, 16, 24]\n"
          ]
        }
      ],
      "source": [
        "import random\n",
        "import pandas as pd\n",
        "from matplotlib import pyplot as plt\n",
        "\n",
        "randomlist = []\n",
        "for i in range(0,700):\n",
        "  n = random.randint(0,30)\n",
        "  randomlist.append(n)\n",
        "print(randomlist)\n"
      ]
    },
    {
      "cell_type": "code",
      "source": [
        "count, bins, ignored = plt.hist(randomlist, 30, facecolor='blue') \n",
        "\n",
        "plt.xlabel('numbers')\n",
        "plt.ylabel('Frequency')\n",
        "plt.title(\"Frequency Distribution Graph\")\n",
        "plt.axis([0, 30, 0, 45]) # x_start, x_end, y_start, y_end\n",
        "plt.grid(True)\n",
        "\n",
        "plt.show(block = False)"
      ],
      "metadata": {
        "colab": {
          "base_uri": "https://localhost:8080/",
          "height": 261
        },
        "id": "RlMsROZP1ole",
        "outputId": "9166e31c-dae5-4fca-f18e-55ca645c8cdc"
      },
      "execution_count": 100,
      "outputs": [
        {
          "output_type": "display_data",
          "data": {
            "text/plain": [
              "<Figure size 540x252 with 1 Axes>"
            ],
            "image/png": "[encoded data removed]"
          },
          "metadata": {
            "needs_background": "light"
          }
        }
      ]
    }
  ]
}