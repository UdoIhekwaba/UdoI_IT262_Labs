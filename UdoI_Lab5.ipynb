{
  "nbformat": 4,
  "nbformat_minor": 0,
  "metadata": {
    "colab": {
      "name": "UdoI_Lab5.ipynb",
      "provenance": [],
      "mount_file_id": "1yM1q7Ju0xejT6ZHBvDPzn1qUFp5RTcat",
      "authorship_tag": "ABX9TyOvMC73/JsYiCgNR304PeAh",
      "include_colab_link": true
    },
    "kernelspec": {
      "name": "python3",
      "display_name": "Python 3"
    },
    "language_info": {
      "name": "python"
    }
  },
  "cells": [
    {
      "cell_type": "markdown",
      "metadata": {
        "id": "view-in-github",
        "colab_type": "text"
      },
      "source": [
        "<a href=\"https://colab.research.google.com/github/UdoIhekwaba/UdoI_IT262_Labs/blob/main/UdoI_Lab5.ipynb\" target=\"_parent\"><img src=\"https://colab.research.google.com/assets/colab-badge.svg\" alt=\"Open In Colab\"/></a>"
      ]
    },
    {
      "cell_type": "code",
      "execution_count": 1,
      "metadata": {
        "id": "SZyPxof2-RV_",
        "colab": {
          "base_uri": "https://localhost:8080/"
        },
        "outputId": "e2908e3e-3a2c-4baa-e307-c1b049efa4fd"
      },
      "outputs": [
        {
          "output_type": "stream",
          "name": "stdout",
          "text": [
            "       reason                         description  frequency\n",
            "0         ERP                    myIllinoinsState          7\n",
            "1         VPN                connection from home         10\n",
            "2       email                   unable to message         18\n",
            "3         PCs  office computers for staff/faculty         12\n",
            "4     printer                     unable to print         10\n",
            "5    internet                   connection issues         22\n",
            "6   ReggieNet            issues accesing features          8\n",
            "7      mobile       mobile devices not connecting         14\n",
            "8    password               password reset issues         11\n",
            "9        VoIP  phone / voice message difficulties         15\n",
            "10   hardware             general hardware issues         25\n",
            "11  Office365             question accessing apps         13\n"
          ]
        }
      ],
      "source": [
        "import pandas as pd\n",
        "import matplotlib.pyplot as plt\n",
        "from matplotlib.ticker import PercentFormatter\n",
        "\n",
        "#upload helpdesk.csv from google drive\n",
        "\n",
        "df = pd.read_csv(\"/content/drive/MyDrive/Copy of HelpDesk.csv\")\n",
        "print(df)"
      ]
    },
    {
      "cell_type": "code",
      "source": [
        "#set this column as index - to use as plot labels\n",
        "df.index = df['reason'] \n",
        "#descending sort\n",
        "df = df.sort_values(by = 'frequency', ascending = False)\n",
        "\n",
        "#cumulative percentag columns is created using cumsum function\n",
        "df[\"cumulativePercentage\"] = df[\"frequency\"].cumsum()/df[\"frequency\"].sum()*100\n",
        "#two decimals \n",
        "df[\"cumulativePercentage\"] = df[\"cumulativePercentage\"].apply(lambda x: round (x,2))\n",
        "print(df)"
      ],
      "metadata": {
        "colab": {
          "base_uri": "https://localhost:8080/"
        },
        "id": "6crMUv_nAAxV",
        "outputId": "b21d1c29-0c8c-4f89-ca13-77adc225f9fb"
      },
      "execution_count": 4,
      "outputs": [
        {
          "output_type": "stream",
          "name": "stdout",
          "text": [
            "              reason  ... cumulativePercentage\n",
            "reason                ...                     \n",
            "hardware    hardware  ...                15.15\n",
            "internet    internet  ...                28.48\n",
            "email          email  ...                39.39\n",
            "VoIP            VoIP  ...                48.48\n",
            "mobile        mobile  ...                56.97\n",
            "Office365  Office365  ...                64.85\n",
            "PCs              PCs  ...                72.12\n",
            "password    password  ...                78.79\n",
            "VPN              VPN  ...                84.85\n",
            "printer      printer  ...                90.91\n",
            "ReggieNet  ReggieNet  ...                95.76\n",
            "ERP              ERP  ...               100.00\n",
            "\n",
            "[12 rows x 4 columns]\n"
          ]
        }
      ]
    },
    {
      "cell_type": "code",
      "source": [
        "fig, ax = plt.subplots()\n",
        "ax.bar(df.index, df[\"frequency\"], color=\"C0\")\n",
        "\n",
        "#shows labels diaganoly\n",
        "ax.set_xticklabels(df['reason'], rotation=45)\n",
        "\n",
        "#ax and ax1 will be shown at the same time \n",
        "ax2 = ax.twinx()\n",
        "\n",
        "ax2.plot(df.index, df[\"cumulativePercentage\"], color = \"C1\", marker = \"D\", ms = 7)\n",
        "ax2.yaxis.set_major_formatter(PercentFormatter())\n",
        "\n",
        "ax.tick_params(axis= \"y\", color = \"C0\")\n",
        "ax2.tick_params(axis= \"y\", color = \"C1\")\n",
        "\n",
        "plt.show()"
      ],
      "metadata": {
        "colab": {
          "base_uri": "https://localhost:8080/",
          "height": 299
        },
        "id": "MkggscuHCGHP",
        "outputId": "f491829b-5635-4c38-a425-49c09d8733a5"
      },
      "execution_count": 5,
      "outputs": [
        {
          "output_type": "display_data",
          "data": {
            "image/png": "[encoded data removed]",
            "text/plain": [
              "<Figure size 432x288 with 2 Axes>"
            ]
          },
          "metadata": {
            "needs_background": "light"
          }
        }
      ]
    }
  ]
}