{
  "cells": [
    {
      "cell_type": "markdown",
      "metadata": {
        "id": "view-in-github",
        "colab_type": "text"
      },
      "source": [
        "<a href=\"https://colab.research.google.com/github/UdoIhekwaba/UdoIhekwaba/blob/main/UdoI_Lab2.ipynb\" target=\"_parent\"><img src=\"https://colab.research.google.com/assets/colab-badge.svg\" alt=\"Open In Colab\"/></a>"
      ]
    },
    {
      "cell_type": "code",
      "execution_count": null,
      "metadata": {
        "colab": {
          "background_save": true,
          "base_uri": "https://localhost:8080/",
          "height": 433
        },
        "id": "1CpEi5aE7etp",
        "outputId": "60279d26-0d27-4738-e7e4-4cc147ee733a"
      },
      "outputs": [
        {
          "name": "stdout",
          "output_type": "stream",
          "text": [
            "   years  developmentCost  operationalCost  valueOfBenefits\n",
            "0      0             -100                0                0\n",
            "1      1              -30              -10               25\n",
            "2      2                0              -15               55\n",
            "3      3                0              -15               85\n"
          ]
        }
      ],
      "source": [
        "import pandas as pd\n",
        "import math\n",
        "\n",
        "dataT=pd.read_csv(\"/content/drive/MyDrive/Copy of 262-CBA.csv\")\n",
        "print(dataT)\n",
        "\n"
      ]
    },
    {
      "cell_type": "code",
      "source": [
        "# set your own discount rate\n",
        "discountRate = 0.05\n",
        "\n",
        "#calculate the compound discount over the years\n",
        "#initialize a list of 4 elements - one for each year, 0 to 3\n",
        "discountFactor = [0,0,0,0]\n",
        "\n",
        "for year in dataT['years']:\n",
        "  discountFactor[year] = 1/math.pow(1+discountRate,year)\n",
        "\n",
        "dataT['discountFactor'] = [round(num,2) for num in discountFactor]\n",
        "print(dataT)"
      ],
      "metadata": {
        "colab": {
          "base_uri": "https://localhost:8080/"
        },
        "id": "DL-ThCdn-fXP",
        "outputId": "f5a363c8-8004-4870-8b5f-31db715f3dd1"
      },
      "execution_count": 5,
      "outputs": [
        {
          "output_type": "stream",
          "name": "stdout",
          "text": [
            "   years  developmentCost  operationalCost  valueOfBenefits  discountFactor\n",
            "0      0             -100                0                0            1.00\n",
            "1      1              -30              -10               25            0.95\n",
            "2      2                0              -15               55            0.91\n",
            "3      3                0              -15               85            0.86\n"
          ]
        }
      ]
    },
    {
      "cell_type": "code",
      "source": [
        "# calculate net benefit/cost for each year\n",
        "# sum of all benefits and cost for each year : op cost + dev cost + benefit\n",
        "\n",
        "#initialize a list of 4 items\n",
        "NetBC=[0,0,0,0]\n",
        "\n",
        "for year in dataT['years']:\n",
        "  NetBC[year]=dataT['developmentCost'][year]+dataT['operationalCost'][year]+dataT['valueOfBenefits']\n",
        "\n",
        "dataT['NetBC']=NetBC\n",
        "print(dataT)"
      ],
      "metadata": {
        "colab": {
          "base_uri": "https://localhost:8080/"
        },
        "id": "c4d_CikHA82F",
        "outputId": "03ae55c8-0bdf-434d-fd92-4693ab8f7e69"
      },
      "execution_count": 13,
      "outputs": [
        {
          "output_type": "stream",
          "name": "stdout",
          "text": [
            "   years  ...                                                NPV\n",
            "0      0  ...  0   -100.0\n",
            "1    -75.0\n",
            "2    -45.0\n",
            "3    -15.0\n",
            "Na...\n",
            "1      1  ...  0   -38.00\n",
            "1   -14.25\n",
            "2    14.25\n",
            "3    42.75\n",
            "Na...\n",
            "2      2  ...  0   -13.65\n",
            "1     9.10\n",
            "2    36.40\n",
            "3    63.70\n",
            "Na...\n",
            "3      3  ...  0   -12.9\n",
            "1     8.6\n",
            "2    34.4\n",
            "3    60.2\n",
            "Name: ...\n",
            "\n",
            "[4 rows x 7 columns]\n"
          ]
        }
      ]
    },
    {
      "cell_type": "code",
      "source": [
        "# calculate the present value of the netb/c for each year\n",
        "# we call it NPV\n",
        "\n",
        "#initialize another list of 4 item - one for each year\n",
        "NPV = [0,0,0,0]\n",
        "\n",
        "for year in dataT['years']:\n",
        "  NPV[year] = dataT['NetBC'][year]*dataT['discountFactor'][year]\n",
        "dataT['NPV']= [round(num,2) for num in NPV]\n",
        "print(dataT)"
      ],
      "metadata": {
        "colab": {
          "base_uri": "https://localhost:8080/"
        },
        "id": "WbaIOYCbDARM",
        "outputId": "def09784-1737-4c86-8330-4031e70ec849"
      },
      "execution_count": 12,
      "outputs": [
        {
          "output_type": "stream",
          "name": "stdout",
          "text": [
            "   years  ...                                                NPV\n",
            "0      0  ...  0   -100.0\n",
            "1    -75.0\n",
            "2    -45.0\n",
            "3    -15.0\n",
            "Na...\n",
            "1      1  ...  0   -38.00\n",
            "1   -14.25\n",
            "2    14.25\n",
            "3    42.75\n",
            "Na...\n",
            "2      2  ...  0   -13.65\n",
            "1     9.10\n",
            "2    36.40\n",
            "3    63.70\n",
            "Na...\n",
            "3      3  ...  0   -12.9\n",
            "1     8.6\n",
            "2    34.4\n",
            "3    60.2\n",
            "Name: ...\n",
            "\n",
            "[4 rows x 7 columns]\n"
          ]
        }
      ]
    }
  ],
  "metadata": {
    "colab": {
      "name": "UdoI_Lab2.ipynb",
      "provenance": [],
      "collapsed_sections": [],
      "mount_file_id": "1flMsUWUiwP09WuI23LY9sEyI_qSxsoUp",
      "authorship_tag": "ABX9TyOSz5J3MpWTbpVAVGeN4HL2",
      "include_colab_link": true
    },
    "kernelspec": {
      "display_name": "Python 3",
      "name": "python3"
    },
    "language_info": {
      "name": "python"
    }
  },
  "nbformat": 4,
  "nbformat_minor": 0
}